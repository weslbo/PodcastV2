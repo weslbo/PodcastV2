{
 "cells": [
  {
   "cell_type": "code",
   "execution_count": 1,
   "metadata": {},
   "outputs": [],
   "source": [
    "import requests\n",
    "import json\n",
    "from bs4 import BeautifulSoup\n",
    "from urllib.parse import urljoin"
   ]
  },
  {
   "cell_type": "code",
   "execution_count": 2,
   "metadata": {},
   "outputs": [],
   "source": [
    "list_of_learn_paths = [\n",
    "    \"https://learn.microsoft.com/en-us/training/paths/describe-concepts-of-security-compliance-identity/\",\n",
    "    \"https://learn.microsoft.com/en-us/training/paths/describe-capabilities-of-microsoft-identity-access/\",\n",
    "    \"https://learn.microsoft.com/en-us/training/paths/describe-capabilities-of-microsoft-security-solutions/\",\n",
    "    \"https://learn.microsoft.com/en-us/training/paths/describe-capabilities-of-microsoft-compliance-solutions/\"\n",
    "]"
   ]
  },
  {
   "cell_type": "code",
   "execution_count": 3,
   "metadata": {},
   "outputs": [
    {
     "name": "stdout",
     "output_type": "stream",
     "text": [
      "Microsoft Security, Compliance, and Identity Fundamentals: Describe the concepts of security, compliance, and identity\n",
      "- Describe security and compliance concepts\n",
      "- Describe identity concepts\n",
      "Microsoft Security, Compliance, and Identity Fundamentals: Describe the capabilities of Microsoft Entra\n",
      "- Describe the function and identity types of Microsoft Entra ID\n",
      "- Describe the authentication capabilities of Microsoft Entra ID\n",
      "- Describe access management capabilities of Microsoft Entra ID\n",
      "- Describe the identity protection and governance capabilities of Microsoft Entra\n",
      "Microsoft Security, Compliance, and Identity Fundamentals: Describe the capabilities of Microsoft security solutions\n",
      "- Describe core infrastructure security services in Azure\n",
      "- Describe the security management capabilities in Azure\n",
      "- Describe security capabilities of Microsoft Sentinel\n",
      "- Describe threat protection with Microsoft Defender XDR\n",
      "Microsoft Security, Compliance, and Identity Fundamentals: Describe the capabilities of Microsoft compliance solutions\n",
      "- Describe Microsoftâs Service Trust portal and privacy capabilities\n",
      "- Describe the compliance management capabilities in Microsoft Purview\n",
      "- Describe information protection, data lifecycle management, and data governance capabilities in Microsoft Purview\n",
      "- Describe the insider risk capabilities in Microsoft Purview\n",
      "- Describe the eDiscovery and Audit capabilities in Microsoft Purview\n",
      "Done!\n"
     ]
    }
   ],
   "source": [
    "data = []\n",
    "\n",
    "for url in list_of_learn_paths:\n",
    "    learn_path = requests.get(url)\n",
    "    soup_learnpath = BeautifulSoup(learn_path.text, \"html.parser\")\n",
    "    links_learnpath = soup_learnpath.find_all(class_=\"font-size-h6\")\n",
    "    title_learnpath = soup_learnpath.find(\"h1\", class_=\"title\").text\n",
    "    absolute_urls = [urljoin(url, link[\"href\"]) for link in links_learnpath]\n",
    "\n",
    "    print(title_learnpath)\n",
    "\n",
    "    jsondata_learnpath = {} \n",
    "    jsondata_learnpath[\"learning_path\"] = title_learnpath\n",
    "    jsondata_learnpath[\"url\"] = url \n",
    "    jsondata_learnpath[\"learning_modules\"] = []\n",
    "\n",
    "    for module in absolute_urls:\n",
    "        learn_module = requests.get(module)\n",
    "        soup_learnmodule = BeautifulSoup(learn_module.text, \"html.parser\")\n",
    "        links_units = soup_learnmodule.find_all(class_=\"unit-title\")\n",
    "        links_units = [link for link in links_units if not any(keyword in link[\"href\"] for keyword in [\"exercise\", \"knowledge-check\", \"summary\"])]\n",
    "        title_module = soup_learnmodule.find(\"h1\", class_=\"title\").text\n",
    "        absolute_urls_units = [urljoin(module, link[\"href\"]) for link in links_units]\n",
    "\n",
    "        print(\"- \" + title_module)\n",
    "\n",
    "        jsondata_learnmodule = {} \n",
    "        jsondata_learnmodule[\"learning_module\"] = title_module\n",
    "        jsondata_learnmodule[\"url\"] = module \n",
    "        jsondata_learnmodule[\"learning_units\"] = absolute_urls_units\n",
    "\n",
    "        jsondata_learnpath[\"learning_modules\"].append(jsondata_learnmodule)\n",
    "\n",
    "    data.append(jsondata_learnpath)\n",
    "    \n",
    "# Write the data to the JSON file\n",
    "with open(\"./output/LearningPaths.json\", \"w\") as json_file:\n",
    "    json.dump(data, json_file, indent=2)\n",
    "\n",
    "print(\"Done!\")"
   ]
  }
 ],
 "metadata": {
  "kernelspec": {
   "display_name": "Python 3",
   "language": "python",
   "name": "python3"
  },
  "language_info": {
   "codemirror_mode": {
    "name": "ipython",
    "version": 3
   },
   "file_extension": ".py",
   "mimetype": "text/x-python",
   "name": "python",
   "nbconvert_exporter": "python",
   "pygments_lexer": "ipython3",
   "version": "3.12.5"
  }
 },
 "nbformat": 4,
 "nbformat_minor": 2
}
