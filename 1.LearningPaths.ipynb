{
 "cells": [
  {
   "cell_type": "code",
   "execution_count": 1,
   "metadata": {},
   "outputs": [],
   "source": [
    "import requests\n",
    "import json\n",
    "from bs4 import BeautifulSoup\n",
    "from urllib.parse import urljoin"
   ]
  },
  {
   "cell_type": "code",
   "execution_count": 2,
   "metadata": {},
   "outputs": [],
   "source": [
    "list_of_learn_paths = [\n",
    "    \"https://learn.microsoft.com/en-us/training/paths/create-custom-copilots-ai-studio/\"\n",
    "]"
   ]
  },
  {
   "cell_type": "code",
   "execution_count": 3,
   "metadata": {},
   "outputs": [
    {
     "name": "stdout",
     "output_type": "stream",
     "text": [
      "Develop your own custom copilots with Azure AI Studio\n",
      "- Introduction to Azure AI Studio\n",
      "- Explore and deploy models from the model catalog in Azure AI Studio\n",
      "- Get started with prompt flow to develop language model apps in the Azure AI Studio\n",
      "- Build a RAG-based copilot solution with your own data using Azure AI Studio\n",
      "- Integrate a fine-tuned language model with your copilot in the Azure AI Studio\n",
      "- Evaluate the performance of your custom copilot in the Azure AI Studio\n",
      "- Responsible generative AI in AI Studio\n",
      "Done!\n"
     ]
    }
   ],
   "source": [
    "data = []\n",
    "\n",
    "for url in list_of_learn_paths:\n",
    "    learn_path = requests.get(url)\n",
    "    soup_learnpath = BeautifulSoup(learn_path.text, \"html.parser\")\n",
    "    links_learnpath = soup_learnpath.find_all(class_=\"font-size-h6\")\n",
    "    title_learnpath = soup_learnpath.find(\"h1\", class_=\"title\").text\n",
    "    absolute_urls = [urljoin(url, link[\"href\"]) for link in links_learnpath]\n",
    "\n",
    "    print(title_learnpath)\n",
    "\n",
    "    jsondata_learnpath = {} \n",
    "    jsondata_learnpath[\"learning_path\"] = title_learnpath\n",
    "    jsondata_learnpath[\"url\"] = url \n",
    "    jsondata_learnpath[\"learning_modules\"] = []\n",
    "\n",
    "    for module in absolute_urls:\n",
    "        learn_module = requests.get(module)\n",
    "        soup_learnmodule = BeautifulSoup(learn_module.text, \"html.parser\")\n",
    "        links_units = soup_learnmodule.find_all(class_=\"unit-title\")\n",
    "        links_units = [link for link in links_units if not any(keyword in link[\"href\"] for keyword in [\"exercise\", \"knowledge-check\", \"summary\"])]\n",
    "        title_module = soup_learnmodule.find(\"h1\", class_=\"title\").text\n",
    "        absolute_urls_units = [urljoin(module, link[\"href\"]) for link in links_units]\n",
    "\n",
    "        print(\"- \" + title_module)\n",
    "\n",
    "        jsondata_learnmodule = {} \n",
    "        jsondata_learnmodule[\"learning_module\"] = title_module\n",
    "        jsondata_learnmodule[\"url\"] = module \n",
    "        jsondata_learnmodule[\"learning_units\"] = absolute_urls_units\n",
    "\n",
    "        jsondata_learnpath[\"learning_modules\"].append(jsondata_learnmodule)\n",
    "\n",
    "    data.append(jsondata_learnpath)\n",
    "    \n",
    "# Write the data to the JSON file\n",
    "with open(\"./output/LearningPaths.json\", \"w\") as json_file:\n",
    "    json.dump(data, json_file, indent=2)\n",
    "\n",
    "print(\"Done!\")"
   ]
  }
 ],
 "metadata": {
  "kernelspec": {
   "display_name": "Python 3",
   "language": "python",
   "name": "python3"
  },
  "language_info": {
   "codemirror_mode": {
    "name": "ipython",
    "version": 3
   },
   "file_extension": ".py",
   "mimetype": "text/x-python",
   "name": "python",
   "nbconvert_exporter": "python",
   "pygments_lexer": "ipython3",
   "version": "3.12.5"
  }
 },
 "nbformat": 4,
 "nbformat_minor": 2
}
