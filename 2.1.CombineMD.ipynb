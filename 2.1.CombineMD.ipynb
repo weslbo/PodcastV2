{
 "cells": [
  {
   "cell_type": "code",
   "execution_count": 1,
   "metadata": {},
   "outputs": [],
   "source": [
    "\n",
    "import os\n",
    "import glob\n",
    "import fnmatch\n",
    "import requests\n",
    "import markdownify\n",
    "import re\n",
    "import json\n",
    "import shutil\n",
    "from dotenv import load_dotenv\n",
    "\n",
    "load_dotenv()\n",
    "code = os.getenv(\"COURSE_CODE\")\n",
    "learn_module = \"all\"\n",
    "\n",
    "def append_md_files(directory):\n",
    "    # Get a list of all .md files in the current directory\n",
    "    md_files = sorted(glob.glob(os.path.join(directory, \"[!0]*.md\")), key=lambda x: os.path.basename(x))\n",
    "    md_files = [file for file in md_files if not file.endswith('.transcript.md')]\n",
    "    output_file = os.path.join(directory, \"0-Content.md\")\n",
    "    \n",
    "    print(directory)\n",
    "    print(output_file)\n",
    "\n",
    "    # Open the output file in write mode\n",
    "    with open(output_file, 'w') as outfile:\n",
    "        # Iterate over each .md file\n",
    "        for md_file in md_files:\n",
    "            # Open each .md file in read mode\n",
    "            with open(md_file, 'r') as infile:\n",
    "                # Read the content and write it to the output file\n",
    "                outfile.write(infile.read())\n",
    "                # Optionally, add a newline or some separator between files\n",
    "                outfile.write(\"\\n\\n\")  # Adds a newline for separation\n"
   ]
  },
  {
   "cell_type": "code",
   "execution_count": 2,
   "metadata": {},
   "outputs": [
    {
     "name": "stdout",
     "output_type": "stream",
     "text": [
      "output/DP-603/1.Get started with Real-Time Intelligence in Microsoft Fabric\n",
      "output/DP-603/1.Get started with Real-Time Intelligence in Microsoft Fabric/0-Content.md\n",
      "output/DP-603/2.Use real time eventstreams in Microsoft Fabric\n",
      "output/DP-603/2.Use real time eventstreams in Microsoft Fabric/0-Content.md\n",
      "output/DP-603/3.Query data in a KQL database in Microsoft Fabric\n",
      "output/DP-603/3.Query data in a KQL database in Microsoft Fabric/0-Content.md\n",
      "output/DP-603/4.Create Real-Time Dashboards with Microsoft Fabric\n",
      "output/DP-603/4.Create Real-Time Dashboards with Microsoft Fabric/0-Content.md\n",
      "output/DP-603/5.Get started with Data Activator in Microsoft Fabric\n",
      "output/DP-603/5.Get started with Data Activator in Microsoft Fabric/0-Content.md\n"
     ]
    }
   ],
   "source": [
    "with open(\"./output/LearningPaths.json\", \"r\") as file:\n",
    "    learning_paths = json.load(file)\n",
    "    \n",
    "if not os.path.exists(f\"output/{code}\"):\n",
    "    os.mkdir(f\"output/{code}\")\n",
    "\n",
    "for lp in learning_paths:\n",
    "    modules = [module for module in lp[\"learning_modules\"] if module[\"learning_module\"] == learn_module or learn_module == \"all\"]\n",
    "    \n",
    "    iModule = 1\n",
    "    for module in modules:\n",
    "        outputFolder_module = f\"output/{code}/{iModule}.{module['learning_module']}\"\n",
    "        iModule += 1\n",
    "        \n",
    "        append_md_files(outputFolder_module)"
   ]
  }
 ],
 "metadata": {
  "kernelspec": {
   "display_name": ".venv",
   "language": "python",
   "name": "python3"
  },
  "language_info": {
   "codemirror_mode": {
    "name": "ipython",
    "version": 3
   },
   "file_extension": ".py",
   "mimetype": "text/x-python",
   "name": "python",
   "nbconvert_exporter": "python",
   "pygments_lexer": "ipython3",
   "version": "3.12.5"
  }
 },
 "nbformat": 4,
 "nbformat_minor": 2
}
