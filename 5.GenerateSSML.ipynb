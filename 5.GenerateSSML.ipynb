{
 "cells": [
  {
   "cell_type": "code",
   "execution_count": 1,
   "metadata": {},
   "outputs": [
    {
     "data": {
      "text/plain": [
       "True"
      ]
     },
     "execution_count": 1,
     "metadata": {},
     "output_type": "execute_result"
    }
   ],
   "source": [
    "import os\n",
    "import json\n",
    "from dotenv import load_dotenv\n",
    "from openai import AzureOpenAI\n",
    "\n",
    "load_dotenv()"
   ]
  },
  {
   "cell_type": "code",
   "execution_count": 2,
   "metadata": {},
   "outputs": [],
   "source": [
    "code = \"AI-3016\"\n",
    "learn_module = \"all\"\n",
    "\n",
    "client = AzureOpenAI(azure_endpoint=os.getenv(\"AZURE_ENDPOINT\"), api_version=\"2024-02-15-preview\", api_key=os.getenv(\"OPENAI_API_KEY\"))"
   ]
  },
  {
   "cell_type": "code",
   "execution_count": 3,
   "metadata": {},
   "outputs": [],
   "source": [
    "def generateSSML(mdFile):\n",
    "    print(f\"- Generating SSML for {mdFile}\")\n",
    "    \n",
    "    with open(mdFile, \"r\") as file:\n",
    "        contents = file.read()\n",
    "        \n",
    "    with open(f\"prompts/5.generateSSML.txt\", \"r\", encoding=\"utf-8\") as text_file:\n",
    "        systemprompt = text_file.read()\n",
    "    \n",
    "    systemprompt = systemprompt.replace(\"{contents}\", contents)\n",
    "    userprompt = f\"Generate the SSML\"\n",
    "                    \n",
    "    message_text = [\n",
    "        {\"role\":\"system\",\"content\":systemprompt},\n",
    "        {\"role\":\"user\",\"content\":userprompt}\n",
    "    ]\n",
    "        \n",
    "    completion = client.chat.completions.create(\n",
    "        model=\"gpt-4o\",\n",
    "        messages = message_text,\n",
    "        temperature=0.1,\n",
    "        top_p=0.95,\n",
    "        frequency_penalty=0,\n",
    "        presence_penalty=0,\n",
    "        stop=None\n",
    "    )    \n",
    "    \n",
    "    output = completion.choices[0].message.content\n",
    "    print(f\"- Actual total usage token={completion.usage.total_tokens}\")\n",
    "    \n",
    "    with open(mdFile.replace(\".md\", \".ssml.xml\"), \"w\", encoding=\"utf-8\") as file:\n",
    "        file.write(output)"
   ]
  },
  {
   "cell_type": "code",
   "execution_count": 4,
   "metadata": {},
   "outputs": [
    {
     "name": "stdout",
     "output_type": "stream",
     "text": [
      "- Generating SSML for output/AI-3016/1.Introduction to Azure AI Studio/1-introduction.transcript.md\n",
      "- Actual total usage token=1184\n",
      "- Generating SSML for output/AI-3016/1.Introduction to Azure AI Studio/2-what-is-ai-studio.transcript.md\n",
      "- Actual total usage token=1450\n",
      "- Generating SSML for output/AI-3016/1.Introduction to Azure AI Studio/3-azure-ai-resources.transcript.md\n",
      "- Actual total usage token=1546\n",
      "- Generating SSML for output/AI-3016/1.Introduction to Azure AI Studio/4-when-to-use-ai-studio.transcript.md\n",
      "- Actual total usage token=1896\n",
      "- Generating SSML for output/AI-3016/2.Explore and deploy models from the model catalog in Azure AI Studio/1-introduction.transcript.md\n",
      "- Actual total usage token=1680\n",
      "- Generating SSML for output/AI-3016/2.Explore and deploy models from the model catalog in Azure AI Studio/2-select-model.transcript.md\n",
      "- Actual total usage token=1946\n",
      "- Generating SSML for output/AI-3016/2.Explore and deploy models from the model catalog in Azure AI Studio/3-deploy-model.transcript.md\n",
      "- Actual total usage token=1694\n",
      "- Generating SSML for output/AI-3016/2.Explore and deploy models from the model catalog in Azure AI Studio/4-improve-model.transcript.md\n",
      "- Actual total usage token=1885\n",
      "- Generating SSML for output/AI-3016/3.Get started with prompt flow to develop language model apps in the Azure AI Studio/1-introduction.transcript.md\n",
      "- Actual total usage token=1922\n",
      "- Generating SSML for output/AI-3016/3.Get started with prompt flow to develop language model apps in the Azure AI Studio/2-understand-lifecycle.transcript.md\n",
      "- Actual total usage token=1376\n",
      "- Generating SSML for output/AI-3016/3.Get started with prompt flow to develop language model apps in the Azure AI Studio/3-understand-flows.transcript.md\n",
      "- Actual total usage token=1724\n",
      "- Generating SSML for output/AI-3016/3.Get started with prompt flow to develop language model apps in the Azure AI Studio/4-connections-runtimes.transcript.md\n",
      "- Actual total usage token=1312\n",
      "- Generating SSML for output/AI-3016/3.Get started with prompt flow to develop language model apps in the Azure AI Studio/5-variants-monitor.transcript.md\n",
      "- Actual total usage token=2099\n",
      "- Generating SSML for output/AI-3016/4.Build a RAG-based copilot solution with your own data using Azure AI Studio/1-introduction.transcript.md\n",
      "- Actual total usage token=1606\n",
      "- Generating SSML for output/AI-3016/4.Build a RAG-based copilot solution with your own data using Azure AI Studio/2-ground-language-model.transcript.md\n",
      "- Actual total usage token=1509\n",
      "- Generating SSML for output/AI-3016/4.Build a RAG-based copilot solution with your own data using Azure AI Studio/3-search-data.transcript.md\n",
      "- Actual total usage token=1780\n",
      "- Generating SSML for output/AI-3016/4.Build a RAG-based copilot solution with your own data using Azure AI Studio/4-build-copilot.transcript.md\n",
      "- Actual total usage token=2135\n",
      "- Generating SSML for output/AI-3016/5.Integrate a fine-tuned language model with your copilot in the Azure AI Studio/1-introduction.transcript.md\n",
      "- Actual total usage token=1178\n",
      "- Generating SSML for output/AI-3016/5.Integrate a fine-tuned language model with your copilot in the Azure AI Studio/2-understand-finetune.transcript.md\n",
      "- Actual total usage token=1532\n",
      "- Generating SSML for output/AI-3016/5.Integrate a fine-tuned language model with your copilot in the Azure AI Studio/3-prepare-data.transcript.md\n",
      "- Actual total usage token=1904\n",
      "- Generating SSML for output/AI-3016/5.Integrate a fine-tuned language model with your copilot in the Azure AI Studio/4-finetune-model.transcript.md\n",
      "- Actual total usage token=1895\n",
      "- Generating SSML for output/AI-3016/6.Evaluate the performance of your custom copilot in the Azure AI Studio/1-introduction.transcript.md\n",
      "- Actual total usage token=1110\n",
      "- Generating SSML for output/AI-3016/6.Evaluate the performance of your custom copilot in the Azure AI Studio/2-assess-models.transcript.md\n",
      "- Actual total usage token=1422\n",
      "- Generating SSML for output/AI-3016/6.Evaluate the performance of your custom copilot in the Azure AI Studio/3-manual-evaluations.transcript.md\n",
      "- Actual total usage token=1524\n",
      "- Generating SSML for output/AI-3016/6.Evaluate the performance of your custom copilot in the Azure AI Studio/4-evaluation-flows.transcript.md\n",
      "- Actual total usage token=1678\n",
      "- Generating SSML for output/AI-3016/7.Responsible generative AI in AI Studio/1-introduction.transcript.md\n",
      "- Actual total usage token=1076\n",
      "- Generating SSML for output/AI-3016/7.Responsible generative AI in AI Studio/2-plan-responsible-ai.transcript.md\n",
      "- Actual total usage token=1362\n",
      "- Generating SSML for output/AI-3016/7.Responsible generative AI in AI Studio/3-identify-harms.transcript.md\n",
      "- Actual total usage token=1844\n",
      "- Generating SSML for output/AI-3016/7.Responsible generative AI in AI Studio/4-measure-harms.transcript.md\n",
      "- Actual total usage token=1357\n",
      "- Generating SSML for output/AI-3016/7.Responsible generative AI in AI Studio/5-mitigate-harms.transcript.md\n",
      "- Actual total usage token=1450\n",
      "- Generating SSML for output/AI-3016/7.Responsible generative AI in AI Studio/6-operate-responsibly.transcript.md\n",
      "- Actual total usage token=2013\n"
     ]
    }
   ],
   "source": [
    "with open(\"./output/LearningPaths.json\", \"r\") as file:\n",
    "    learning_paths = json.load(file)\n",
    "    \n",
    "for lp in learning_paths:\n",
    "    modules = [module for module in lp[\"learning_modules\"] if module[\"learning_module\"] == learn_module or learn_module == \"all\"]\n",
    "\n",
    "    iModule = 1\n",
    "    for module in modules:\n",
    "        outputFolder_module = f\"output/{code}/{iModule}.{module['learning_module']}\"\n",
    "        iModule += 1\n",
    "        \n",
    "        for index, url in enumerate(module[\"learning_units\"]):\n",
    "            unit_name = url.split(\"/\")[-1]\n",
    "            \n",
    "            outputFile_md = f\"{outputFolder_module}/{unit_name}.transcript.md\"\n",
    "            \n",
    "            generateSSML(outputFile_md)\n",
    "            "
   ]
  }
 ],
 "metadata": {
  "kernelspec": {
   "display_name": ".venv",
   "language": "python",
   "name": "python3"
  },
  "language_info": {
   "codemirror_mode": {
    "name": "ipython",
    "version": 3
   },
   "file_extension": ".py",
   "mimetype": "text/x-python",
   "name": "python",
   "nbconvert_exporter": "python",
   "pygments_lexer": "ipython3",
   "version": "3.12.5"
  }
 },
 "nbformat": 4,
 "nbformat_minor": 2
}
