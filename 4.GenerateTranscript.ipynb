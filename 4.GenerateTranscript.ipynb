{
 "cells": [
  {
   "cell_type": "code",
   "execution_count": 1,
   "metadata": {},
   "outputs": [
    {
     "data": {
      "text/plain": [
       "True"
      ]
     },
     "execution_count": 1,
     "metadata": {},
     "output_type": "execute_result"
    }
   ],
   "source": [
    "import os\n",
    "import json\n",
    "from dotenv import load_dotenv\n",
    "from openai import AzureOpenAI\n",
    "\n",
    "load_dotenv()"
   ]
  },
  {
   "cell_type": "code",
   "execution_count": 2,
   "metadata": {},
   "outputs": [],
   "source": [
    "code = \"AI-3016\"\n",
    "learn_module = \"all\"\n",
    "\n",
    "client = AzureOpenAI(azure_endpoint=os.getenv(\"AZURE_ENDPOINT\"), api_version=\"2024-02-15-preview\", api_key=os.getenv(\"OPENAI_API_KEY\"))"
   ]
  },
  {
   "cell_type": "code",
   "execution_count": 3,
   "metadata": {},
   "outputs": [],
   "source": [
    "def generateTranscript(mdFile, action):\n",
    "    print(f\"- Generating transcript ({action}) for {mdFile}\")\n",
    "    \n",
    "    with open(mdFile, \"r\") as file:\n",
    "        contents = file.read()\n",
    "        \n",
    "    with open(mdFile.replace(\".md\", \".questions.json\"), \"r\", encoding=\"utf-8\") as questions_file:\n",
    "        questions = questions_file.read()\n",
    "        \n",
    "    with open(f\"prompts/4.generatetranscript.{action}.txt\", \"r\", encoding=\"utf-8\") as text_file:\n",
    "        systemprompt = text_file.read()\n",
    "    \n",
    "    systemprompt = systemprompt.replace(\"{contents}\", contents)\n",
    "    userprompt = f\"\"\"Generate the transcript, based on the following questions below: \n",
    "                    =========\n",
    "                    {questions}\n",
    "                    \"\"\"\n",
    "                    \n",
    "    message_text = [\n",
    "        {\"role\":\"system\",\"content\":systemprompt},\n",
    "        {\"role\":\"user\",\"content\":userprompt}\n",
    "    ]\n",
    "        \n",
    "    completion = client.chat.completions.create(\n",
    "        model=\"gpt-4o\",\n",
    "        messages = message_text,\n",
    "        temperature=0.1,\n",
    "        top_p=0.95,\n",
    "        frequency_penalty=0,\n",
    "        presence_penalty=0,\n",
    "        stop=None\n",
    "    )    \n",
    "    \n",
    "    output = completion.choices[0].message.content\n",
    "    print(f\"- Actual total usage token={completion.usage.total_tokens}\")\n",
    "    \n",
    "    with open(mdFile.replace(\".md\", \".transcript.md\"), \"w\", encoding=\"utf-8\") as file:\n",
    "        file.write(output)"
   ]
  },
  {
   "cell_type": "code",
   "execution_count": 4,
   "metadata": {},
   "outputs": [
    {
     "name": "stdout",
     "output_type": "stream",
     "text": [
      "- Generating transcript (start) for output/AI-3016/1.Introduction to Azure AI Studio/1-introduction.md\n",
      "- Actual total usage token=1049\n",
      "- Generating transcript (between) for output/AI-3016/1.Introduction to Azure AI Studio/2-what-is-ai-studio.md\n",
      "- Actual total usage token=1833\n",
      "- Generating transcript (between) for output/AI-3016/1.Introduction to Azure AI Studio/3-azure-ai-resources.md\n",
      "- Actual total usage token=1985\n",
      "- Generating transcript (finish) for output/AI-3016/1.Introduction to Azure AI Studio/4-when-to-use-ai-studio.md\n",
      "- Actual total usage token=1929\n",
      "- Generating transcript (start) for output/AI-3016/2.Explore and deploy models from the model catalog in Azure AI Studio/1-introduction.md\n",
      "- Actual total usage token=1899\n",
      "- Generating transcript (between) for output/AI-3016/2.Explore and deploy models from the model catalog in Azure AI Studio/2-select-model.md\n",
      "- Actual total usage token=3534\n",
      "- Generating transcript (between) for output/AI-3016/2.Explore and deploy models from the model catalog in Azure AI Studio/3-deploy-model.md\n",
      "- Actual total usage token=2318\n",
      "- Generating transcript (finish) for output/AI-3016/2.Explore and deploy models from the model catalog in Azure AI Studio/4-improve-model.md\n",
      "- Actual total usage token=2859\n",
      "- Generating transcript (start) for output/AI-3016/3.Get started with prompt flow to develop language model apps in the Azure AI Studio/1-introduction.md\n",
      "- Actual total usage token=2047\n",
      "- Generating transcript (between) for output/AI-3016/3.Get started with prompt flow to develop language model apps in the Azure AI Studio/2-understand-lifecycle.md\n",
      "- Actual total usage token=2273\n",
      "- Generating transcript (between) for output/AI-3016/3.Get started with prompt flow to develop language model apps in the Azure AI Studio/3-understand-flows.md\n",
      "- Actual total usage token=2174\n",
      "- Generating transcript (between) for output/AI-3016/3.Get started with prompt flow to develop language model apps in the Azure AI Studio/4-connections-runtimes.md\n",
      "- Actual total usage token=1782\n",
      "- Generating transcript (finish) for output/AI-3016/3.Get started with prompt flow to develop language model apps in the Azure AI Studio/5-variants-monitor.md\n",
      "- Actual total usage token=2555\n",
      "- Generating transcript (start) for output/AI-3016/4.Build a RAG-based copilot solution with your own data using Azure AI Studio/1-introduction.md\n",
      "- Actual total usage token=1864\n",
      "- Generating transcript (between) for output/AI-3016/4.Build a RAG-based copilot solution with your own data using Azure AI Studio/2-ground-language-model.md\n",
      "- Actual total usage token=1681\n",
      "- Generating transcript (between) for output/AI-3016/4.Build a RAG-based copilot solution with your own data using Azure AI Studio/3-search-data.md\n",
      "- Actual total usage token=2800\n",
      "- Generating transcript (finish) for output/AI-3016/4.Build a RAG-based copilot solution with your own data using Azure AI Studio/4-build-copilot.md\n",
      "- Actual total usage token=2985\n",
      "- Generating transcript (start) for output/AI-3016/5.Integrate a fine-tuned language model with your copilot in the Azure AI Studio/1-introduction.md\n",
      "- Actual total usage token=1129\n",
      "- Generating transcript (between) for output/AI-3016/5.Integrate a fine-tuned language model with your copilot in the Azure AI Studio/2-understand-finetune.md\n",
      "- Actual total usage token=2000\n",
      "- Generating transcript (between) for output/AI-3016/5.Integrate a fine-tuned language model with your copilot in the Azure AI Studio/3-prepare-data.md\n",
      "- Actual total usage token=2063\n",
      "- Generating transcript (finish) for output/AI-3016/5.Integrate a fine-tuned language model with your copilot in the Azure AI Studio/4-finetune-model.md\n",
      "- Actual total usage token=2620\n",
      "- Generating transcript (start) for output/AI-3016/6.Evaluate the performance of your custom copilot in the Azure AI Studio/1-introduction.md\n",
      "- Actual total usage token=1085\n",
      "- Generating transcript (between) for output/AI-3016/6.Evaluate the performance of your custom copilot in the Azure AI Studio/2-assess-models.md\n",
      "- Actual total usage token=2117\n",
      "- Generating transcript (between) for output/AI-3016/6.Evaluate the performance of your custom copilot in the Azure AI Studio/3-manual-evaluations.md\n",
      "- Actual total usage token=2124\n",
      "- Generating transcript (finish) for output/AI-3016/6.Evaluate the performance of your custom copilot in the Azure AI Studio/4-evaluation-flows.md\n",
      "- Actual total usage token=2707\n",
      "- Generating transcript (start) for output/AI-3016/7.Responsible generative AI in AI Studio/1-introduction.md\n",
      "- Actual total usage token=968\n",
      "- Generating transcript (between) for output/AI-3016/7.Responsible generative AI in AI Studio/2-plan-responsible-ai.md\n",
      "- Actual total usage token=1358\n",
      "- Generating transcript (between) for output/AI-3016/7.Responsible generative AI in AI Studio/3-identify-harms.md\n",
      "- Actual total usage token=2729\n",
      "- Generating transcript (between) for output/AI-3016/7.Responsible generative AI in AI Studio/4-measure-harms.md\n",
      "- Actual total usage token=1629\n",
      "- Generating transcript (between) for output/AI-3016/7.Responsible generative AI in AI Studio/5-mitigate-harms.md\n",
      "- Actual total usage token=1932\n",
      "- Generating transcript (finish) for output/AI-3016/7.Responsible generative AI in AI Studio/6-operate-responsibly.md\n",
      "- Actual total usage token=2324\n"
     ]
    }
   ],
   "source": [
    "with open(\"./output/LearningPaths.json\", \"r\") as file:\n",
    "    learning_paths = json.load(file)\n",
    "    \n",
    "for lp in learning_paths:\n",
    "    modules = [module for module in lp[\"learning_modules\"] if module[\"learning_module\"] == learn_module or learn_module == \"all\"]\n",
    "\n",
    "    iModule = 1\n",
    "    for module in modules:\n",
    "        outputFolder_module = f\"output/{code}/{iModule}.{module['learning_module']}\"\n",
    "        iModule += 1\n",
    "        \n",
    "        for index, url in enumerate(module[\"learning_units\"]):\n",
    "            unit_name = url.split(\"/\")[-1]\n",
    "            \n",
    "            if index == 0:\n",
    "                action = \"start\"\n",
    "            elif index == len(module[\"learning_units\"]) - 1:\n",
    "                action = \"finish\"\n",
    "            else:\n",
    "                action = \"between\"\n",
    "            \n",
    "            outputFile_md = f\"{outputFolder_module}/{unit_name}.md\"\n",
    "            saveLocation = f\"{outputFolder_module}/{unit_name}.json\"\n",
    "            \n",
    "            generateTranscript(outputFile_md, action)\n",
    "            "
   ]
  }
 ],
 "metadata": {
  "kernelspec": {
   "display_name": ".venv",
   "language": "python",
   "name": "python3"
  },
  "language_info": {
   "codemirror_mode": {
    "name": "ipython",
    "version": 3
   },
   "file_extension": ".py",
   "mimetype": "text/x-python",
   "name": "python",
   "nbconvert_exporter": "python",
   "pygments_lexer": "ipython3",
   "version": "3.12.5"
  }
 },
 "nbformat": 4,
 "nbformat_minor": 2
}
