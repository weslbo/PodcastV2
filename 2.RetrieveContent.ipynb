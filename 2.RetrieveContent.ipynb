{
 "cells": [
  {
   "cell_type": "code",
   "execution_count": 1,
   "metadata": {},
   "outputs": [],
   "source": [
    "import os, fnmatch\n",
    "import requests\n",
    "import markdownify\n",
    "import re\n",
    "import json\n",
    "from bs4 import BeautifulSoup\n",
    "import shutil"
   ]
  },
  {
   "cell_type": "code",
   "execution_count": 2,
   "metadata": {},
   "outputs": [],
   "source": [
    "code = \"AI-3016\"\n",
    "learn_module = \"all\""
   ]
  },
  {
   "cell_type": "code",
   "execution_count": 3,
   "metadata": {},
   "outputs": [],
   "source": [
    "def get_markdown(url, savelocation):\n",
    "    print(\"- Retrieving markdown from \" + url)\n",
    "\n",
    "    response = requests.get(url)\n",
    "    soup = BeautifulSoup(response.text, 'html.parser')\n",
    "\n",
    "    # might need to adapt this when working with other web pages (not Microsoft Learn)\n",
    "    div = soup.find(id=\"unit-inner-section\")\n",
    "\n",
    "    for ul in div.find_all(\"ul\", class_=\"metadata\"):\n",
    "        ul.decompose()\n",
    "    for d in div.find_all(\"div\", class_=\"xp-tag\"):\n",
    "        d.decompose()\n",
    "    for next in div.find_all(\"div\", class_=\"next-section\"):\n",
    "        next.decompose()\n",
    "    for header in div.find_all([\"h1\", \"h2\", \"h3\", \"h4\", \"h5\", \"h6\"]):\n",
    "        header.string = \"\\n# \" + header.get_text() + \"\\n\"\n",
    "    for code in div.find_all(\"code\"):\n",
    "        code.decompose()\n",
    "\n",
    "    markdown = markdownify.markdownify(str(div), heading_style=\"ATX\", bullets=\"-\")\n",
    "    markdown = re.sub('\\n{3,}', '\\n\\n', markdown)\n",
    "    markdown = markdown.replace(\"[Continue](/en-us/)\", \"\")\n",
    "\n",
    "    with open(savelocation, \"w\", encoding=\"utf-8\") as file:\n",
    "        file.write(markdown)\n",
    "\n",
    "    return markdown"
   ]
  },
  {
   "cell_type": "code",
   "execution_count": 4,
   "metadata": {},
   "outputs": [
    {
     "name": "stdout",
     "output_type": "stream",
     "text": [
      "- Retrieving markdown from https://learn.microsoft.com/en-us/training/modules/introduction-to-azure-ai-studio/1-introduction\n",
      "- Retrieving markdown from https://learn.microsoft.com/en-us/training/modules/introduction-to-azure-ai-studio/2-what-is-ai-studio\n",
      "- Retrieving markdown from https://learn.microsoft.com/en-us/training/modules/introduction-to-azure-ai-studio/3-azure-ai-resources\n",
      "- Retrieving markdown from https://learn.microsoft.com/en-us/training/modules/introduction-to-azure-ai-studio/4-when-to-use-ai-studio\n",
      "- Retrieving markdown from https://learn.microsoft.com/en-us/training/modules/explore-models-azure-ai-studio/1-introduction\n",
      "- Retrieving markdown from https://learn.microsoft.com/en-us/training/modules/explore-models-azure-ai-studio/2-select-model\n",
      "- Retrieving markdown from https://learn.microsoft.com/en-us/training/modules/explore-models-azure-ai-studio/3-deploy-model\n",
      "- Retrieving markdown from https://learn.microsoft.com/en-us/training/modules/explore-models-azure-ai-studio/4-improve-model\n",
      "- Retrieving markdown from https://learn.microsoft.com/en-us/training/modules/get-started-prompt-flow-ai-studio/1-introduction\n",
      "- Retrieving markdown from https://learn.microsoft.com/en-us/training/modules/get-started-prompt-flow-ai-studio/2-understand-lifecycle\n",
      "- Retrieving markdown from https://learn.microsoft.com/en-us/training/modules/get-started-prompt-flow-ai-studio/3-understand-flows\n",
      "- Retrieving markdown from https://learn.microsoft.com/en-us/training/modules/get-started-prompt-flow-ai-studio/4-connections-runtimes\n",
      "- Retrieving markdown from https://learn.microsoft.com/en-us/training/modules/get-started-prompt-flow-ai-studio/5-variants-monitor\n",
      "- Retrieving markdown from https://learn.microsoft.com/en-us/training/modules/build-copilot-ai-studio/1-introduction\n",
      "- Retrieving markdown from https://learn.microsoft.com/en-us/training/modules/build-copilot-ai-studio/2-ground-language-model\n",
      "- Retrieving markdown from https://learn.microsoft.com/en-us/training/modules/build-copilot-ai-studio/3-search-data\n",
      "- Retrieving markdown from https://learn.microsoft.com/en-us/training/modules/build-copilot-ai-studio/4-build-copilot\n",
      "- Retrieving markdown from https://learn.microsoft.com/en-us/training/modules/finetune-model-copilot-ai-studio/1-introduction\n",
      "- Retrieving markdown from https://learn.microsoft.com/en-us/training/modules/finetune-model-copilot-ai-studio/2-understand-finetune\n",
      "- Retrieving markdown from https://learn.microsoft.com/en-us/training/modules/finetune-model-copilot-ai-studio/3-prepare-data\n",
      "- Retrieving markdown from https://learn.microsoft.com/en-us/training/modules/finetune-model-copilot-ai-studio/4-finetune-model\n",
      "- Retrieving markdown from https://learn.microsoft.com/en-us/training/modules/evaluate-models-azure-ai-studio/1-introduction\n",
      "- Retrieving markdown from https://learn.microsoft.com/en-us/training/modules/evaluate-models-azure-ai-studio/2-assess-models\n",
      "- Retrieving markdown from https://learn.microsoft.com/en-us/training/modules/evaluate-models-azure-ai-studio/3-manual-evaluations\n",
      "- Retrieving markdown from https://learn.microsoft.com/en-us/training/modules/evaluate-models-azure-ai-studio/4-evaluation-flows\n",
      "- Retrieving markdown from https://learn.microsoft.com/en-us/training/modules/responsible-ai-studio/1-introduction\n",
      "- Retrieving markdown from https://learn.microsoft.com/en-us/training/modules/responsible-ai-studio/2-plan-responsible-ai\n",
      "- Retrieving markdown from https://learn.microsoft.com/en-us/training/modules/responsible-ai-studio/3-identify-harms\n",
      "- Retrieving markdown from https://learn.microsoft.com/en-us/training/modules/responsible-ai-studio/4-measure-harms\n",
      "- Retrieving markdown from https://learn.microsoft.com/en-us/training/modules/responsible-ai-studio/5-mitigate-harms\n",
      "- Retrieving markdown from https://learn.microsoft.com/en-us/training/modules/responsible-ai-studio/6-operate-responsibly\n"
     ]
    }
   ],
   "source": [
    "with open(\"./output/LearningPaths.json\", \"r\") as file:\n",
    "    learning_paths = json.load(file)\n",
    "    \n",
    "if not os.path.exists(f\"output/{code}\"):\n",
    "    os.mkdir(f\"output/{code}\")\n",
    "\n",
    "for lp in learning_paths:\n",
    "    modules = [module for module in lp[\"learning_modules\"] if module[\"learning_module\"] == learn_module or learn_module == \"all\"]\n",
    "    \n",
    "    iModule = 1\n",
    "    for module in modules:\n",
    "        outputFolder_module = f\"output/{code}/{iModule}.{module['learning_module']}\"\n",
    "        iModule += 1\n",
    "        \n",
    "        if not os.path.exists(outputFolder_module):\n",
    "            os.mkdir(outputFolder_module)\n",
    "            \n",
    "        for index, url in enumerate(module[\"learning_units\"]):\n",
    "            unit_name = url.split(\"/\")[-1]\n",
    "            \n",
    "            outputFile_md = f\"{outputFolder_module}/{unit_name}.md\"\n",
    "            markdown = get_markdown(url, outputFile_md)"
   ]
  }
 ],
 "metadata": {
  "kernelspec": {
   "display_name": ".venv",
   "language": "python",
   "name": "python3"
  },
  "language_info": {
   "codemirror_mode": {
    "name": "ipython",
    "version": 3
   },
   "file_extension": ".py",
   "mimetype": "text/x-python",
   "name": "python",
   "nbconvert_exporter": "python",
   "pygments_lexer": "ipython3",
   "version": "3.12.5"
  }
 },
 "nbformat": 4,
 "nbformat_minor": 2
}
