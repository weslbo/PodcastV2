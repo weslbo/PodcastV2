{
 "cells": [
  {
   "cell_type": "code",
   "execution_count": 9,
   "metadata": {},
   "outputs": [
    {
     "data": {
      "text/plain": [
       "True"
      ]
     },
     "execution_count": 9,
     "metadata": {},
     "output_type": "execute_result"
    }
   ],
   "source": [
    "import os\n",
    "import json\n",
    "from dotenv import load_dotenv\n",
    "from openai import AzureOpenAI\n",
    "\n",
    "load_dotenv()"
   ]
  },
  {
   "cell_type": "code",
   "execution_count": 10,
   "metadata": {},
   "outputs": [],
   "source": [
    "code = \"AI-3016\"\n",
    "learn_module = \"all\"\n",
    "\n",
    "client = AzureOpenAI(azure_endpoint=os.getenv(\"AZURE_ENDPOINT\"), api_version=\"2024-02-15-preview\", api_key=os.getenv(\"OPENAI_API_KEY\"))"
   ]
  },
  {
   "cell_type": "code",
   "execution_count": 11,
   "metadata": {},
   "outputs": [],
   "source": [
    "def generateQuestions(mdFile, savelocation):\n",
    "    print(\"- Generating questions for \" + mdFile)\n",
    "    \n",
    "    with open(mdFile, \"r\") as file:\n",
    "        contents = file.read()\n",
    "        \n",
    "    with open(\"prompts/3.generatequestions.txt\", \"r\", encoding=\"utf-8\") as text_file:\n",
    "        prompt = text_file.read()\n",
    "    \n",
    "    prompt = prompt.replace(\"{contents}\", contents)\n",
    "    \n",
    "    message_text = [\n",
    "        {\"role\":\"system\",\"content\":prompt},\n",
    "        {\"role\":\"user\",\"content\":\"generate the list of questions in json\"}\n",
    "    ]\n",
    "        \n",
    "    completion = client.chat.completions.create(\n",
    "        model=\"gpt-4o\",\n",
    "        messages = message_text,\n",
    "        temperature=0.1,\n",
    "        top_p=0.95,\n",
    "        frequency_penalty=0,\n",
    "        presence_penalty=0,\n",
    "        stop=None\n",
    "    )    \n",
    "    \n",
    "    output = completion.choices[0].message.content\n",
    "    print(f\"- Actual total usage token={completion.usage.total_tokens}\")\n",
    "    \n",
    "    with open(savelocation, \"w\", encoding=\"utf-8\") as file:\n",
    "        file.write(output)"
   ]
  },
  {
   "cell_type": "code",
   "execution_count": 12,
   "metadata": {},
   "outputs": [
    {
     "name": "stdout",
     "output_type": "stream",
     "text": [
      "- Generating questions for output/AI-3016/1.Introduction to Azure AI Studio/1-introduction.md\n",
      "- Actual total usage token=670\n",
      "- Generating questions for output/AI-3016/1.Introduction to Azure AI Studio/2-what-is-ai-studio.md\n",
      "- Actual total usage token=1303\n",
      "- Generating questions for output/AI-3016/1.Introduction to Azure AI Studio/3-azure-ai-resources.md\n",
      "- Actual total usage token=1405\n",
      "- Generating questions for output/AI-3016/1.Introduction to Azure AI Studio/4-when-to-use-ai-studio.md\n",
      "- Actual total usage token=1265\n",
      "- Generating questions for output/AI-3016/2.Explore and deploy models from the model catalog in Azure AI Studio/1-introduction.md\n",
      "- Actual total usage token=1338\n",
      "- Generating questions for output/AI-3016/2.Explore and deploy models from the model catalog in Azure AI Studio/2-select-model.md\n",
      "- Actual total usage token=2820\n",
      "- Generating questions for output/AI-3016/2.Explore and deploy models from the model catalog in Azure AI Studio/3-deploy-model.md\n",
      "- Actual total usage token=1650\n",
      "- Generating questions for output/AI-3016/2.Explore and deploy models from the model catalog in Azure AI Studio/4-improve-model.md\n",
      "- Actual total usage token=2206\n",
      "- Generating questions for output/AI-3016/3.Get started with prompt flow to develop language model apps in the Azure AI Studio/1-introduction.md\n",
      "- Actual total usage token=1389\n",
      "- Generating questions for output/AI-3016/3.Get started with prompt flow to develop language model apps in the Azure AI Studio/2-understand-lifecycle.md\n",
      "- Actual total usage token=1828\n",
      "- Generating questions for output/AI-3016/3.Get started with prompt flow to develop language model apps in the Azure AI Studio/3-understand-flows.md\n",
      "- Actual total usage token=1585\n",
      "- Generating questions for output/AI-3016/3.Get started with prompt flow to develop language model apps in the Azure AI Studio/4-connections-runtimes.md\n",
      "- Actual total usage token=1335\n",
      "- Generating questions for output/AI-3016/3.Get started with prompt flow to develop language model apps in the Azure AI Studio/5-variants-monitor.md\n",
      "- Actual total usage token=1813\n",
      "- Generating questions for output/AI-3016/4.Build a RAG-based copilot solution with your own data using Azure AI Studio/1-introduction.md\n",
      "- Actual total usage token=1317\n",
      "- Generating questions for output/AI-3016/4.Build a RAG-based copilot solution with your own data using Azure AI Studio/2-ground-language-model.md\n",
      "- Actual total usage token=1127\n",
      "- Generating questions for output/AI-3016/4.Build a RAG-based copilot solution with your own data using Azure AI Studio/3-search-data.md\n",
      "- Actual total usage token=2167\n",
      "- Generating questions for output/AI-3016/4.Build a RAG-based copilot solution with your own data using Azure AI Studio/4-build-copilot.md\n",
      "- Actual total usage token=2209\n",
      "- Generating questions for output/AI-3016/5.Integrate a fine-tuned language model with your copilot in the Azure AI Studio/1-introduction.md\n",
      "- Actual total usage token=753\n",
      "- Generating questions for output/AI-3016/5.Integrate a fine-tuned language model with your copilot in the Azure AI Studio/2-understand-finetune.md\n",
      "- Actual total usage token=1424\n",
      "- Generating questions for output/AI-3016/5.Integrate a fine-tuned language model with your copilot in the Azure AI Studio/3-prepare-data.md\n",
      "- Actual total usage token=1402\n",
      "- Generating questions for output/AI-3016/5.Integrate a fine-tuned language model with your copilot in the Azure AI Studio/4-finetune-model.md\n",
      "- Actual total usage token=1932\n",
      "- Generating questions for output/AI-3016/6.Evaluate the performance of your custom copilot in the Azure AI Studio/1-introduction.md\n",
      "- Actual total usage token=743\n",
      "- Generating questions for output/AI-3016/6.Evaluate the performance of your custom copilot in the Azure AI Studio/2-assess-models.md\n",
      "- Actual total usage token=1617\n",
      "- Generating questions for output/AI-3016/6.Evaluate the performance of your custom copilot in the Azure AI Studio/3-manual-evaluations.md\n",
      "- Actual total usage token=1589\n",
      "- Generating questions for output/AI-3016/6.Evaluate the performance of your custom copilot in the Azure AI Studio/4-evaluation-flows.md\n",
      "- Actual total usage token=2088\n",
      "- Generating questions for output/AI-3016/7.Responsible generative AI in AI Studio/1-introduction.md\n",
      "- Actual total usage token=626\n",
      "- Generating questions for output/AI-3016/7.Responsible generative AI in AI Studio/2-plan-responsible-ai.md\n",
      "- Actual total usage token=886\n",
      "- Generating questions for output/AI-3016/7.Responsible generative AI in AI Studio/3-identify-harms.md\n",
      "- Actual total usage token=2082\n",
      "- Generating questions for output/AI-3016/7.Responsible generative AI in AI Studio/4-measure-harms.md\n",
      "- Actual total usage token=1153\n",
      "- Generating questions for output/AI-3016/7.Responsible generative AI in AI Studio/5-mitigate-harms.md\n",
      "- Actual total usage token=1386\n",
      "- Generating questions for output/AI-3016/7.Responsible generative AI in AI Studio/6-operate-responsibly.md\n",
      "- Actual total usage token=1607\n"
     ]
    }
   ],
   "source": [
    "with open(\"./output/LearningPaths.json\", \"r\") as file:\n",
    "    learning_paths = json.load(file)\n",
    "    \n",
    "for lp in learning_paths:\n",
    "    modules = [module for module in lp[\"learning_modules\"] if module[\"learning_module\"] == learn_module or learn_module == \"all\"]\n",
    "\n",
    "    iModule = 1\n",
    "    for module in modules:\n",
    "        outputFolder_module = f\"output/{code}/{iModule}.{module['learning_module']}\"\n",
    "        iModule += 1\n",
    "        \n",
    "        for index, url in enumerate(module[\"learning_units\"]):\n",
    "            unit_name = url.split(\"/\")[-1]\n",
    "            \n",
    "            outputFile_md = f\"{outputFolder_module}/{unit_name}.md\"\n",
    "            saveLocation = f\"{outputFolder_module}/{unit_name}.questions.json\"\n",
    "            \n",
    "            generateQuestions(outputFile_md, saveLocation)\n",
    "            "
   ]
  }
 ],
 "metadata": {
  "kernelspec": {
   "display_name": ".venv",
   "language": "python",
   "name": "python3"
  },
  "language_info": {
   "codemirror_mode": {
    "name": "ipython",
    "version": 3
   },
   "file_extension": ".py",
   "mimetype": "text/x-python",
   "name": "python",
   "nbconvert_exporter": "python",
   "pygments_lexer": "ipython3",
   "version": "3.12.5"
  }
 },
 "nbformat": 4,
 "nbformat_minor": 2
}
