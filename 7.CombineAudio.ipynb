{
 "cells": [
  {
   "cell_type": "code",
   "execution_count": 1,
   "metadata": {},
   "outputs": [],
   "source": [
    "import os, fnmatch\n",
    "import json\n",
    "from dotenv import load_dotenv\n",
    "from pydub import AudioSegment\n",
    "from pydub.playback import play\n",
    "\n",
    "load_dotenv()\n",
    "\n",
    "code = os.getenv(\"COURSE_CODE\")\n",
    "learn_module = \"all\""
   ]
  },
  {
   "cell_type": "code",
   "execution_count": 2,
   "metadata": {},
   "outputs": [],
   "source": [
    "def combineAudio(templocation, savelocation):\n",
    "    input_files = sorted(fnmatch.filter(os.listdir(templocation), '*.mp3'))\n",
    "    final_files = []\n",
    "\n",
    "    for i in range(len(input_files)):\n",
    "        input_files[i] = os.path.join(templocation, input_files[i])\n",
    "\n",
    "    for i in range(len(input_files)):\n",
    "        if i == 0:\n",
    "            final_files.append(\"media/start.mp3\")\n",
    "            final_files.append(input_files[i])\n",
    "        elif i == len(input_files) - 1:\n",
    "            final_files.append(\"media/break.mp3\")\n",
    "            final_files.append(input_files[i])\n",
    "            final_files.append(\"media/finish.mp3\")\n",
    "        else:\n",
    "            final_files.append(\"media/break.mp3\")\n",
    "            final_files.append(input_files[i])\n",
    "\n",
    "    print(\"- Combining audio files \" + str(final_files))\n",
    "    \n",
    "    # Initialize an empty AudioSegment\n",
    "    combined_audio = AudioSegment.silent(duration=0)\n",
    "\n",
    "    # Iterate through input files and append them to the combined_audio\n",
    "    for input_file in final_files:\n",
    "        audio_segment = AudioSegment.from_file(input_file, format=\"mp3\")\n",
    "        combined_audio += audio_segment\n",
    "\n",
    "    # Export the combined audio to the output file\n",
    "    combined_audio.export(savelocation, format=\"mp3\")"
   ]
  },
  {
   "cell_type": "code",
   "execution_count": 3,
   "metadata": {},
   "outputs": [
    {
     "name": "stdout",
     "output_type": "stream",
     "text": [
      "- Combining audio files ['media/start.mp3', 'output/SC-900/1.Describe security and compliance concepts/1-introduction.mp3', 'media/break.mp3', 'output/SC-900/1.Describe security and compliance concepts/2-describe-shared-responsibility-model.mp3', 'media/break.mp3', 'output/SC-900/1.Describe security and compliance concepts/3-describe-defense-depth.mp3', 'media/break.mp3', 'output/SC-900/1.Describe security and compliance concepts/4-describe-zero-trust-model.mp3', 'media/break.mp3', 'output/SC-900/1.Describe security and compliance concepts/5-describe-encryption-hashing.mp3', 'media/break.mp3', 'output/SC-900/1.Describe security and compliance concepts/6-describe-compliance-concepts.mp3', 'media/finish.mp3']\n",
      "- Combining audio files ['media/start.mp3', 'output/SC-900/2.Describe identity concepts/1-introduction.mp3', 'media/break.mp3', 'output/SC-900/2.Describe identity concepts/2-define-authentication-authorization.mp3', 'media/break.mp3', 'output/SC-900/2.Describe identity concepts/3-define-identity-primary-security-perimeter.mp3', 'media/break.mp3', 'output/SC-900/2.Describe identity concepts/4-describe-role-identity-provider.mp3', 'media/break.mp3', 'output/SC-900/2.Describe identity concepts/5-describe-concept-of-directory-services-active-directory.mp3', 'media/break.mp3', 'output/SC-900/2.Describe identity concepts/6-describe-concept-federation.mp3', 'media/finish.mp3']\n",
      "- Combining audio files ['media/start.mp3', 'output/SC-900/3.Describe the function and identity types of Microsoft Entra ID/1-introduction.mp3', 'media/break.mp3', 'output/SC-900/3.Describe the function and identity types of Microsoft Entra ID/2-describe-azure-active-directory.mp3', 'media/break.mp3', 'output/SC-900/3.Describe the function and identity types of Microsoft Entra ID/3-describe-identity-types.mp3', 'media/break.mp3', 'output/SC-900/3.Describe the function and identity types of Microsoft Entra ID/4-describe-concept-of-hybrid-identity.mp3', 'media/break.mp3', 'output/SC-900/3.Describe the function and identity types of Microsoft Entra ID/5-describe-external-identities.mp3', 'media/finish.mp3']\n",
      "- Combining audio files ['media/start.mp3', 'output/SC-900/4.Describe the authentication capabilities of Microsoft Entra ID/1-introduction.mp3', 'media/break.mp3', 'output/SC-900/4.Describe the authentication capabilities of Microsoft Entra ID/2-describe-authentication-methods.mp3', 'media/break.mp3', 'output/SC-900/4.Describe the authentication capabilities of Microsoft Entra ID/3-describe-multi-factor-authentication.mp3', 'media/break.mp3', 'output/SC-900/4.Describe the authentication capabilities of Microsoft Entra ID/4-describe-self-service-password-reset.mp3', 'media/break.mp3', 'output/SC-900/4.Describe the authentication capabilities of Microsoft Entra ID/5-describe-password-protection-management.mp3', 'media/finish.mp3']\n",
      "- Combining audio files ['media/start.mp3', 'output/SC-900/5.Describe access management capabilities of Microsoft Entra ID/1-introduction.mp3', 'media/break.mp3', 'output/SC-900/5.Describe access management capabilities of Microsoft Entra ID/2-describe-conditional-access-azure-ad.mp3', 'media/break.mp3', 'output/SC-900/5.Describe access management capabilities of Microsoft Entra ID/3-describe-azure-role-based-access-control.mp3', 'media/finish.mp3']\n",
      "- Combining audio files ['media/start.mp3', 'output/SC-900/6.Describe the identity protection and governance capabilities of Microsoft Entra/1-introduction.mp3', 'media/break.mp3', 'output/SC-900/6.Describe the identity protection and governance capabilities of Microsoft Entra/2-describe-identity-governance.mp3', 'media/break.mp3', 'output/SC-900/6.Describe the identity protection and governance capabilities of Microsoft Entra/3-describe-what-entitlement-management-access-reviews.mp3', 'media/break.mp3', 'output/SC-900/6.Describe the identity protection and governance capabilities of Microsoft Entra/3a-describe-entitlement-management-terms-use.mp3', 'media/break.mp3', 'output/SC-900/6.Describe the identity protection and governance capabilities of Microsoft Entra/4-describe-privileged-identity-management.mp3', 'media/break.mp3', 'output/SC-900/6.Describe the identity protection and governance capabilities of Microsoft Entra/5-describe-azure.mp3', 'media/break.mp3', 'output/SC-900/6.Describe the identity protection and governance capabilities of Microsoft Entra/5a-describe-entra-permissions-management.mp3', 'media/break.mp3', 'output/SC-900/6.Describe the identity protection and governance capabilities of Microsoft Entra/5b-describe-entra-verified-id.mp3', 'media/finish.mp3']\n",
      "- Combining audio files ['media/start.mp3', 'output/SC-900/7.Describe core infrastructure security services in Azure/1-introduction.mp3', 'media/break.mp3', 'output/SC-900/7.Describe core infrastructure security services in Azure/2-describe-azure-ddos-protection.mp3', 'media/break.mp3', 'output/SC-900/7.Describe core infrastructure security services in Azure/3-describe-what-azure-firewall.mp3', 'media/break.mp3', 'output/SC-900/7.Describe core infrastructure security services in Azure/4-describe-web-application-firewall.mp3', 'media/break.mp3', 'output/SC-900/7.Describe core infrastructure security services in Azure/5-describe-network-segmentation.mp3', 'media/break.mp3', 'output/SC-900/7.Describe core infrastructure security services in Azure/6-describe-azure-network-security-groups.mp3', 'media/break.mp3', 'output/SC-900/7.Describe core infrastructure security services in Azure/7-describe-azure-bastion-just-in-time-access.mp3', 'media/break.mp3', 'output/SC-900/7.Describe core infrastructure security services in Azure/8-describe-ways-azure-encrypts-data.mp3', 'media/finish.mp3']\n",
      "- Combining audio files ['media/start.mp3', 'output/SC-900/8.Describe the security management capabilities in Azure/1-introduction.mp3', 'media/break.mp3', 'output/SC-900/8.Describe the security management capabilities in Azure/2-describe-defender-cloud.mp3', 'media/break.mp3', 'output/SC-900/8.Describe the security management capabilities in Azure/3-baselines-for-azure.mp3', 'media/break.mp3', 'output/SC-900/8.Describe the security management capabilities in Azure/4-describe-cloud-security-posture-management.mp3', 'media/break.mp3', 'output/SC-900/8.Describe the security management capabilities in Azure/5a-describe-enhanced-security-defender-cloud.mp3', 'media/break.mp3', 'output/SC-900/8.Describe the security management capabilities in Azure/6-describe-dev-ops-security-management.mp3', 'media/finish.mp3']\n",
      "- Combining audio files ['media/start.mp3', 'output/SC-900/9.Describe security capabilities of Microsoft Sentinel/1-introduction.mp3', 'media/break.mp3', 'output/SC-900/9.Describe security capabilities of Microsoft Sentinel/2-define-concepts-of-siem-soar.mp3', 'media/break.mp3', 'output/SC-900/9.Describe security capabilities of Microsoft Sentinel/3-describe-sentinel-provide-integrated-threat-management.mp3', 'media/break.mp3', 'output/SC-900/9.Describe security capabilities of Microsoft Sentinel/4-describe-security-copilot.mp3', 'media/finish.mp3']\n",
      "- Combining audio files ['media/start.mp3', 'output/SC-900/10.Describe threat protection with Microsoft Defender XDR/1-introduction.mp3', 'media/break.mp3', 'output/SC-900/10.Describe threat protection with Microsoft Defender XDR/2-describe-services.mp3', 'media/break.mp3', 'output/SC-900/10.Describe threat protection with Microsoft Defender XDR/3-describe-defender-office.mp3', 'media/break.mp3', 'output/SC-900/10.Describe threat protection with Microsoft Defender XDR/4-describe-defender-endpoint.mp3', 'media/break.mp3', 'output/SC-900/10.Describe threat protection with Microsoft Defender XDR/5-describe-microsoft-cloud-app-security.mp3', 'media/break.mp3', 'output/SC-900/10.Describe threat protection with Microsoft Defender XDR/6-describe-defender-identity.mp3', 'media/break.mp3', 'output/SC-900/10.Describe threat protection with Microsoft Defender XDR/6a-describe-defender-vulnerability-management.mp3', 'media/break.mp3', 'output/SC-900/10.Describe threat protection with Microsoft Defender XDR/6b-describe-defender-threat-intelligence.mp3', 'media/break.mp3', 'output/SC-900/10.Describe threat protection with Microsoft Defender XDR/7-describe-microsoft-defender-portal.mp3', 'media/finish.mp3']\n",
      "- Combining audio files ['media/start.mp3', \"output/SC-900/11.Describe Microsoft's Service Trust portal and privacy capabilities/1-introduction.mp3\", 'media/break.mp3', \"output/SC-900/11.Describe Microsoft's Service Trust portal and privacy capabilities/2-describe-service-trust-portal.mp3\", 'media/break.mp3', \"output/SC-900/11.Describe Microsoft's Service Trust portal and privacy capabilities/3-describe-microsofts-privacy-principles.mp3\", 'media/break.mp3', \"output/SC-900/11.Describe Microsoft's Service Trust portal and privacy capabilities/4-describe-microsoft-priva.mp3\", 'media/finish.mp3']\n",
      "- Combining audio files ['media/start.mp3', 'output/SC-900/12.Describe the compliance management capabilities in Microsoft Purview/1-introduction.mp3', 'media/break.mp3', 'output/SC-900/12.Describe the compliance management capabilities in Microsoft Purview/2-describe-compliance-portal.mp3', 'media/break.mp3', 'output/SC-900/12.Describe the compliance management capabilities in Microsoft Purview/3-manager.mp3', 'media/break.mp3', 'output/SC-900/12.Describe the compliance management capabilities in Microsoft Purview/4-describe-compliance-score.mp3', 'media/finish.mp3']\n",
      "- Combining audio files ['media/start.mp3', 'output/SC-900/13.Describe information protection, data lifecycle management, and data governance capabilities in Microsoft Purview/1-introduction.mp3', 'media/break.mp3', 'output/SC-900/13.Describe information protection, data lifecycle management, and data governance capabilities in Microsoft Purview/2-know-your-data-protect-your-data-govern-your-data.mp3', 'media/break.mp3', 'output/SC-900/13.Describe information protection, data lifecycle management, and data governance capabilities in Microsoft Purview/3-describe-data-classification-capabilities-compliance-portal.mp3', 'media/break.mp3', 'output/SC-900/13.Describe information protection, data lifecycle management, and data governance capabilities in Microsoft Purview/4-describe-sensitivity-labels-policies.mp3', 'media/break.mp3', 'output/SC-900/13.Describe information protection, data lifecycle management, and data governance capabilities in Microsoft Purview/5-describe-data-loss-prevention.mp3', 'media/break.mp3', 'output/SC-900/13.Describe information protection, data lifecycle management, and data governance capabilities in Microsoft Purview/6-describe-retention-polices-retention-labels.mp3', 'media/break.mp3', 'output/SC-900/13.Describe information protection, data lifecycle management, and data governance capabilities in Microsoft Purview/7-describe-records-management.mp3', 'media/break.mp3', 'output/SC-900/13.Describe information protection, data lifecycle management, and data governance capabilities in Microsoft Purview/7a-describe-purview-governance.mp3', 'media/finish.mp3']\n",
      "- Combining audio files ['media/start.mp3', 'output/SC-900/14.Describe the insider risk capabilities in Microsoft Purview/1-introduction.mp3', 'media/break.mp3', 'output/SC-900/14.Describe the insider risk capabilities in Microsoft Purview/2-management-solution.mp3', 'media/break.mp3', 'output/SC-900/14.Describe the insider risk capabilities in Microsoft Purview/3-describe-communication-compliance.mp3', 'media/finish.mp3']\n",
      "- Combining audio files ['media/start.mp3', 'output/SC-900/15.Describe the eDiscovery and Audit capabilities in Microsoft Purview/1-introduction.mp3', 'media/break.mp3', 'output/SC-900/15.Describe the eDiscovery and Audit capabilities in Microsoft Purview/2-describe-ediscovery-solutions.mp3', 'media/break.mp3', 'output/SC-900/15.Describe the eDiscovery and Audit capabilities in Microsoft Purview/3-describe-audit-solutions.mp3', 'media/finish.mp3']\n"
     ]
    }
   ],
   "source": [
    "\n",
    "with open(\"./output/LearningPaths.json\", \"r\") as file:\n",
    "    learning_paths = json.load(file)\n",
    "\n",
    "iModule = 1    \n",
    "for lp in learning_paths:\n",
    "    modules = [module for module in lp[\"learning_modules\"] if module[\"learning_module\"] == learn_module or learn_module == \"all\"]\n",
    "\n",
    "    for module in modules:\n",
    "        outputFolder_module = f\"output/{code}/{iModule}.{module['learning_module']}\"\n",
    "            \n",
    "        outputFile_module_mp3 = f\"output/{code}/{iModule}.{module['learning_module']}.mp3\"\n",
    "            \n",
    "        combineAudio(outputFolder_module , outputFile_module_mp3)\n",
    "        iModule += 1\n",
    "            "
   ]
  }
 ],
 "metadata": {
  "kernelspec": {
   "display_name": ".venv",
   "language": "python",
   "name": "python3"
  },
  "language_info": {
   "codemirror_mode": {
    "name": "ipython",
    "version": 3
   },
   "file_extension": ".py",
   "mimetype": "text/x-python",
   "name": "python",
   "nbconvert_exporter": "python",
   "pygments_lexer": "ipython3",
   "version": "3.12.5"
  }
 },
 "nbformat": 4,
 "nbformat_minor": 2
}
